{
 "cells": [
  {
   "cell_type": "code",
   "execution_count": 1,
   "id": "e75aea90",
   "metadata": {},
   "outputs": [],
   "source": [
    "import mnist_loader #pour la resolution du mnist data set\n",
    "import network1 as n\n",
    "donnees_entrainement, validation_data, donnees_test = mnist_loader.load_data_wrapper()\n",
    "\n",
    "net = n.ReseauNeural([784,30,10])\n",
    "def entrainement(data,net,epochs,taille_mini_lots,eta,f,f_prime,test=None):\n",
    "    prog=net.Descente_gradient(data, epochs, taille_mini_lots, eta,f,f_prime, donnees_test=test)\n",
    "    return prog"
   ]
  },
  {
   "cell_type": "code",
   "execution_count": 2,
   "id": "f02ffd02",
   "metadata": {},
   "outputs": [],
   "source": [
    "import matplotlib.pyplot as plt\n",
    "import numpy as np\n",
    "from copy import copy #comparer les performances en conservant les valeurs initiales d'origine.\n",
    "\n",
    "def graph(data_sets):#fonction pour le tracage des courbes\n",
    "    for data_set, label in data_sets:\n",
    "        x=[data[0] for data in data_set]\n",
    "        y=[data[1] for data in data_set]\n",
    "        plt.plot(x, y, label=label)"
   ]
  },
  {
   "cell_type": "code",
   "execution_count": null,
   "id": "e77fa996",
   "metadata": {},
   "outputs": [],
   "source": [
    "#courbe pour differente val d'eta\n",
    "eta001=entrainement(donnees_entrainement,copy(net),50,10,0.01,n.sigmoid,n.sigmoid_prime\n",
    "                    ,test=donnees_test)\n",
    "eta01=entrainement(donnees_entrainement,copy(net),50,10,0.1,n.sigmoid,n.sigmoid_prime\n",
    "                   ,test=donnees_test)\n",
    "eta1=entrainement(donnees_entrainement,copy(net),50,10,1,n.sigmoid,n.sigmoid_prime\n",
    "                  ,test=donnees_test)\n",
    "eta10=entrainement(donnees_entrainement,copy(net),50,10,10,n.sigmoid,n.sigmoid_prime\n",
    "                   ,test=donnees_test)\n",
    "eta100=entrainement(donnees_entrainement,copy(net),50,10,100,n.sigmoid,n.sigmoid_prime\n",
    "                   ,test=donnees_test)\n",
    "\n",
    "matrices = [[eta001,'eta=0.01'], [eta01,'eta=0.1'], [eta1,'eta=1'], [eta10,'eta=10']\n",
    "            , [eta100,'eta=100']]\n",
    "graph(matrices)\n",
    "\n",
    "plt.xlabel('Époque')\n",
    "plt.ylabel('precision de neurones %')\n",
    "plt.legend()\n",
    "plt.grid()\n",
    "plt.yticks(np.arange(0, 101, 10))\n",
    "plt.gcf().set_size_inches(7,4)\n",
    "plt.savefig(\"eta.png\")\n",
    "plt.show()"
   ]
  },
  {
   "cell_type": "code",
   "execution_count": null,
   "id": "84ec5964",
   "metadata": {},
   "outputs": [],
   "source": [
    "#courbes de differente structure du reseau\n",
    "\n",
    "M=entrainement(donnees_entrainement,n.ReseauNeural([784,10]),50,10,3,n.sigmoid\n",
    "                        ,n.sigmoid_prime,test=donnees_test)\n",
    "M20=entrainement(donnees_entrainement,n.ReseauNeural([784,20 ,10]),50,10,3,n.sigmoid\n",
    "                          ,n.sigmoid_prime,test=donnees_test)\n",
    "M2020=entrainement(donnees_entrainement,n.ReseauNeural([784,20,20,10]),50,10,3,n.sigmoid\n",
    "                            ,n.sigmoid_prime,test=donnees_test)\n",
    "\n",
    "data_sets = [[M, '[784, 10]'], [M20, '[784, 20, 10]'], [M2020, '[784, 20, 20, 10]']]\n",
    "graph(data_sets)\n",
    "\n",
    "plt.xlabel('Époque')\n",
    "plt.ylabel('precision de neurones %')\n",
    "plt.legend()\n",
    "plt.grid()\n",
    "plt.gcf().set_size_inches(7,4)\n",
    "plt.savefig(\"couches.png\")\n",
    "plt.show()"
   ]
  },
  {
   "cell_type": "code",
   "execution_count": null,
   "id": "ab3ab6ff",
   "metadata": {},
   "outputs": [],
   "source": [
    "#courbe pour differente fonction d'activation\n",
    "net=n.ReseauNeural([784,30,10])\n",
    "sigmoid=entrainement(donnees_entrainement,copy(net),50,10,3,n.sigmoid,n.sigmoid_prime\n",
    "                              ,test=donnees_test)\n",
    "tanh=entrainement(donnees_entrainement,copy(net),50,10,3,n.tanh,n.tanh_prime\n",
    "                           ,test=donnees_test)\n",
    "arctan=entrainement(donnees_entrainement,copy(net),50,10,3,n.arctan,n.arctan_prime\n",
    "                             ,test=donnees_test)\n",
    "\n",
    "data_sets = [[sigmoid, 'sigmoid'], [tanh, 'tanh'], [arctan, 'arctan']]\n",
    "graph(data_sets)\n",
    "\n",
    "plt.xlabel('Époque')\n",
    "plt.ylabel('precision de neurones %')\n",
    "plt.legend()\n",
    "plt.grid()\n",
    "plt.gcf().set_size_inches(7,4)\n",
    "plt.savefig(\"fonction.png\")\n",
    "plt.show()"
   ]
  },
  {
   "cell_type": "code",
   "execution_count": null,
   "id": "1ca795f6",
   "metadata": {},
   "outputs": [],
   "source": [
    "#courbes de deux differentes valeurs initials\n",
    "net1=n.ReseauNeural([784,30,10])\n",
    "net2=n.ReseauNeural([784,30,10])\n",
    "init1=entrainement(donnees_entrainement,net1,50,10,3,n.sigmoid,n.sigmoid_prime\n",
    "                            ,test=donnees_test)\n",
    "init2=entrainement(donnees_entrainement,net1,50,10,3,n.sigmoid,n.sigmoid_prime\n",
    "                            ,test=donnees_test)\n",
    "\n",
    "data_sets = [[init1, 'init1'], [init2, 'init2']]\n",
    "graph(data_sets)\n",
    "\n",
    "plt.xlabel('Époque')\n",
    "plt.ylabel('precision de neurones %')\n",
    "plt.legend()\n",
    "plt.grid()\n",
    "plt.gcf().set_size_inches(7,4)\n",
    "plt.savefig(\"init.png\")\n",
    "plt.show()"
   ]
  },
  {
   "cell_type": "code",
   "execution_count": 1,
   "id": "2245cc00",
   "metadata": {},
   "outputs": [],
   "source": [
    "#preparer une image pour l'evaluation\n",
    "from PIL import Image, ImageFilter\n",
    "import numpy as np\n",
    "import matplotlib.pyplot as plt\n",
    "def imageprepare(argv): #l'image est suppose carree de taille plus de 28*28 pixels\n",
    "    im = Image.open(argv).convert('L')\n",
    "    width = float(im.size[0])\n",
    "    height = float(im.size[1])\n",
    "    newImage = Image.new('L', (28, 28), (255))  # crée une toile blanche de 28x28 pixels\n",
    "    \n",
    "    nheight = int(round((20.0 / width * height), 0))  # resize height according to ratio width\n",
    "    # redimensionner et affiner\n",
    "    img = im.resize((20, nheight), Image.LANCZOS).filter(ImageFilter.SHARPEN)\n",
    "    wtop = int(round(((28 - nheight) / 2), 0))  # calculer la position horisontale\n",
    "    newImage.paste(img, (4, wtop))  # coller l'image redimensionee dans la toile blanche\n",
    "\n",
    "    newImage.save(\"image.png\")\n",
    "\n",
    "    tv = list(newImage.getdata())  # obtenir les valeurs des pixels\n",
    "\n",
    "    # normaliser les pixels de 0 à 1. 0 est un blanc pur, 1 est un noir pur.\n",
    "    tva = [[(255 - x) * 1.0 / 255.0] for x in tv]\n",
    "    return [[(255 - x) * 1.0 / 255.0] for x in tv]"
   ]
  },
  {
   "cell_type": "code",
   "execution_count": null,
   "id": "812b8788",
   "metadata": {},
   "outputs": [
    {
     "name": "stdout",
     "output_type": "stream",
     "text": [
      "epoque 1: 8000 / 10000\n",
      "epoque 2: 8352 / 10000\n",
      "epoque 3: 7882 / 10000\n",
      "epoque 4: 8325 / 10000\n",
      "epoque 5: 8218 / 10000\n",
      "epoque 6: 8391 / 10000\n",
      "epoque 7: 7543 / 10000\n",
      "epoque 8: 8432 / 10000\n",
      "epoque 9: 8561 / 10000\n"
     ]
    }
   ],
   "source": [
    "#entrainer pour evaluer\n",
    "net = n.ReseauNeural([784,30,10])\n",
    "net.Descente_gradient(donnees_entrainement, 50, 3,n.sigmoid,n.sigmoid_prime,\n",
    "                      donnees_test=donnees_test)"
   ]
  },
  {
   "cell_type": "code",
   "execution_count": null,
   "id": "0b5475ea",
   "metadata": {},
   "outputs": [],
   "source": []
  }
 ],
 "metadata": {
  "kernelspec": {
   "display_name": "Python 3 (ipykernel)",
   "language": "python",
   "name": "python3"
  },
  "language_info": {
   "codemirror_mode": {
    "name": "ipython",
    "version": 3
   },
   "file_extension": ".py",
   "mimetype": "text/x-python",
   "name": "python",
   "nbconvert_exporter": "python",
   "pygments_lexer": "ipython3",
   "version": "3.11.3"
  }
 },
 "nbformat": 4,
 "nbformat_minor": 5
}
